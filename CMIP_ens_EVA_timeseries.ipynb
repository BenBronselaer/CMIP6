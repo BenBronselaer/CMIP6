{
 "cells": [
  {
   "cell_type": "markdown",
   "metadata": {},
   "source": [
    "# Ensemble Climate Model EVA timeseries\n",
    "\n",
    "\n",
    "This is a script to perform statistical climate change analysis on a single-model multi-member ensemble,\n",
    "focussed on extreme events at a particular location.\n",
    "\n",
    "Since the climate is not stationary, a climate model large ensemble is used to pull enough years from\n",
    "a short date range. \n",
    "\n",
    "The code calculates and plots the following three items:\n",
    "\n",
    "1. Map showing change in variable mean and where the changes are significant\n",
    "2. Changes in extreme events at a given return period, with estimated uncertainty\n",
    "3. Changes in monthly mean distributions\n",
    "\n",
    "The script uses xarray and CMIP6 data stored in the google cloud, so no need to have data pre-downloaded. \n",
    "Only the data needed is loaded, which avoids having to download *full* GCM ensemble dataset. H\n",
    "\n",
    "Total runtime is dependent on number of ensemble members available/specified\n",
    "\n"
   ]
  },
  {
   "cell_type": "code",
   "execution_count": 3,
   "metadata": {},
   "outputs": [],
   "source": [
    "from matplotlib import pyplot as plt\n",
    "import numpy as np\n",
    "import pandas as pd\n",
    "import xarray as xr\n",
    "import zarr\n",
    "import gcsfs\n",
    "import cartopy.crs as ccrs\n",
    "from scipy.signal import find_peaks\n",
    "import scipy.stats as stats\n",
    "import warnings"
   ]
  },
  {
   "cell_type": "markdown",
   "metadata": {},
   "source": [
    "### Define parameters"
   ]
  },
  {
   "cell_type": "code",
   "execution_count": 106,
   "metadata": {},
   "outputs": [
    {
     "name": "stderr",
     "output_type": "stream",
     "text": [
      "/opt/anaconda3/lib/python3.7/site-packages/IPython/core/interactiveshell.py:3063: DtypeWarning: Columns (10) have mixed types.Specify dtype option on import or set low_memory=False.\n",
      "  interactivity=interactivity, compiler=compiler, result=result)\n"
     ]
    }
   ],
   "source": [
    "# set parameters for the analysis\n",
    "n_ens_members=5         # number of ensemble members \n",
    "sig_level=1.0           # significant level for statistical analysis, this number is multiplied with the standard deviation\n",
    "\n",
    "# load CMIP5 databases for google cloud\n",
    "df = pd.read_csv('https://storage.googleapis.com/cmip6/cmip6-zarr-consolidated-stores.csv')"
   ]
  },
  {
   "cell_type": "code",
   "execution_count": 92,
   "metadata": {},
   "outputs": [],
   "source": [
    "# set model queries\n",
    "# guide for names here: https://docs.google.com/document/d/1yUx6jr9EdedCOLd--CPdTfGDwEwzPpCF6p1jRmqx-0Q \n",
    "# firstly set queries for both ensemble\n",
    "# the format of single and double quotation marks is important, so make sure these are kept \n",
    "variable = \"'tasmax'\"  \n",
    "resolution = \"'day'\"\n",
    "model=  \"'CanESM5'\"\n",
    "scenario=\"'ssp245'\"\n",
    "\n",
    "# then, set the historical ensemble details\n",
    "activity_1=\"'CMIP'\"\n",
    "scenario_1 = \"'historical'\"\n",
    "date_1_start =\"2005-01-01\"\n",
    "date_1_end = \"2010-12-31\"\n",
    "\n",
    "# lastly, set the future ensemble details\n",
    "activity_2=\"'ScenarioMIP'\"\n",
    "scenario_2 = \"'ssp245'\"\n",
    "date_2_start =\"2035-01-01\"\n",
    "date_2_end = \"2040-12-31\"\n",
    "\n",
    "# time resolution of requested data, in days\n",
    "ts_res_days=1 \n",
    "\n",
    "# set coordinates for location to be analyzed\n",
    "# use London as example\n",
    "xc=0.0\n",
    "yc=51.5\n",
    "\n",
    "# set return period to be tested\n",
    "RP=100\n",
    "\n",
    "# EVA factor: helper factor for GDP fit for extreme event analysis\n",
    "# - if the variable values are very small (for example: precipitation 'pr'), the GDP fit is not accurate,\n",
    "#   so it helps to adjust values to a more usable range. For precipiation 'pr', eva_func=10**5 works well\n",
    "# - not needed for tasmax\n",
    "eva_fac=1"
   ]
  },
  {
   "cell_type": "code",
   "execution_count": 94,
   "metadata": {},
   "outputs": [
    {
     "data": {
      "text/plain": [
       "array(['BCC-CSM2-MR', 'FGOALS-g3', 'CanESM5-CanOE', 'CanESM5',\n",
       "       'CNRM-CM6-1', 'CNRM-ESM2-1', 'ACCESS-CM2', 'ACCESS-ESM1-5',\n",
       "       'MPI-ESM1-2-HR', 'EC-Earth3-Veg', 'EC-Earth3', 'INM-CM4-8',\n",
       "       'IPSL-CM6A-LR', 'MIROC-ES2L', 'MIROC6', 'HadGEM3-GC31-LL',\n",
       "       'UKESM1-0-LL', 'MRI-ESM2-0', 'GISS-E2-1-G', 'CESM2-WACCM',\n",
       "       'KACE-1-0-G', 'GFDL-CM4', 'GFDL-ESM4'], dtype=object)"
      ]
     },
     "execution_count": 94,
     "metadata": {},
     "output_type": "execute_result"
    }
   ],
   "source": [
    "df_ssp = df.query(\"activity_id== 'ScenarioMIP' & table_id == 'Amon' & variable_id == 'tasmax' & experiment_id == \"+scenario)"
   ]
  },
  {
   "cell_type": "code",
   "execution_count": 109,
   "metadata": {},
   "outputs": [],
   "source": [
    "models=df_ssp['source_id'].value_counts().index.tolist()\n",
    "counts=df_ssp['source_id'].value_counts().tolist()"
   ]
  },
  {
   "cell_type": "code",
   "execution_count": 110,
   "metadata": {},
   "outputs": [
    {
     "data": {
      "text/plain": [
       "CanESM5            50\n",
       "IPSL-CM6A-LR        9\n",
       "CNRM-CM6-1          9\n",
       "MRI-ESM2-0          5\n",
       "CNRM-ESM2-1         5\n",
       "UKESM1-0-LL         5\n",
       "HadGEM3-GC31-LL     4\n",
       "CESM2-WACCM         4\n",
       "CanESM5-CanOE       3\n",
       "MIROC6              3\n",
       "GISS-E2-1-G         3\n",
       "GFDL-ESM4           3\n",
       "KACE-1-0-G          3\n",
       "ACCESS-ESM1-5       3\n",
       "EC-Earth3-Veg       2\n",
       "MPI-ESM1-2-HR       1\n",
       "MIROC-ES2L          1\n",
       "GFDL-CM4            1\n",
       "ACCESS-CM2          1\n",
       "BCC-CSM2-MR         1\n",
       "INM-CM4-8           1\n",
       "EC-Earth3           1\n",
       "FGOALS-g3           1\n",
       "Name: source_id, dtype: int64"
      ]
     },
     "execution_count": 110,
     "metadata": {},
     "output_type": "execute_result"
    }
   ],
   "source": [
    "df_ssp['source_id'].value_counts()"
   ]
  },
  {
   "cell_type": "markdown",
   "metadata": {},
   "source": [
    "### End define parameters\n",
    "\n",
    "The next block builds the query. This is where the actual dataset is prescribed, since the rest of the code will loop through the dataframes df_hist and df_fut."
   ]
  },
  {
   "cell_type": "code",
   "execution_count": 21,
   "metadata": {},
   "outputs": [
    {
     "data": {
      "text/html": [
       "<div>\n",
       "<style scoped>\n",
       "    .dataframe tbody tr th:only-of-type {\n",
       "        vertical-align: middle;\n",
       "    }\n",
       "\n",
       "    .dataframe tbody tr th {\n",
       "        vertical-align: top;\n",
       "    }\n",
       "\n",
       "    .dataframe thead th {\n",
       "        text-align: right;\n",
       "    }\n",
       "</style>\n",
       "<table border=\"1\" class=\"dataframe\">\n",
       "  <thead>\n",
       "    <tr style=\"text-align: right;\">\n",
       "      <th></th>\n",
       "      <th>activity_id</th>\n",
       "      <th>institution_id</th>\n",
       "      <th>source_id</th>\n",
       "      <th>experiment_id</th>\n",
       "      <th>member_id</th>\n",
       "      <th>table_id</th>\n",
       "      <th>variable_id</th>\n",
       "      <th>grid_label</th>\n",
       "      <th>zstore</th>\n",
       "      <th>dcpp_init_year</th>\n",
       "      <th>version</th>\n",
       "    </tr>\n",
       "  </thead>\n",
       "  <tbody>\n",
       "    <tr>\n",
       "      <th>238491</th>\n",
       "      <td>ScenarioMIP</td>\n",
       "      <td>CCCma</td>\n",
       "      <td>CanESM5</td>\n",
       "      <td>ssp245</td>\n",
       "      <td>r10i1p1f1</td>\n",
       "      <td>day</td>\n",
       "      <td>tasmax</td>\n",
       "      <td>gn</td>\n",
       "      <td>gs://cmip6/ScenarioMIP/CCCma/CanESM5/ssp245/r1...</td>\n",
       "      <td>NaN</td>\n",
       "      <td>20190306</td>\n",
       "    </tr>\n",
       "    <tr>\n",
       "      <th>238615</th>\n",
       "      <td>ScenarioMIP</td>\n",
       "      <td>CCCma</td>\n",
       "      <td>CanESM5</td>\n",
       "      <td>ssp245</td>\n",
       "      <td>r10i1p2f1</td>\n",
       "      <td>day</td>\n",
       "      <td>tasmax</td>\n",
       "      <td>gn</td>\n",
       "      <td>gs://cmip6/ScenarioMIP/CCCma/CanESM5/ssp245/r1...</td>\n",
       "      <td>NaN</td>\n",
       "      <td>20190429</td>\n",
       "    </tr>\n",
       "    <tr>\n",
       "      <th>238696</th>\n",
       "      <td>ScenarioMIP</td>\n",
       "      <td>CCCma</td>\n",
       "      <td>CanESM5</td>\n",
       "      <td>ssp245</td>\n",
       "      <td>r11i1p1f1</td>\n",
       "      <td>day</td>\n",
       "      <td>tasmax</td>\n",
       "      <td>gn</td>\n",
       "      <td>gs://cmip6/ScenarioMIP/CCCma/CanESM5/ssp245/r1...</td>\n",
       "      <td>NaN</td>\n",
       "      <td>20190429</td>\n",
       "    </tr>\n",
       "    <tr>\n",
       "      <th>238770</th>\n",
       "      <td>ScenarioMIP</td>\n",
       "      <td>CCCma</td>\n",
       "      <td>CanESM5</td>\n",
       "      <td>ssp245</td>\n",
       "      <td>r11i1p2f1</td>\n",
       "      <td>day</td>\n",
       "      <td>tasmax</td>\n",
       "      <td>gn</td>\n",
       "      <td>gs://cmip6/ScenarioMIP/CCCma/CanESM5/ssp245/r1...</td>\n",
       "      <td>NaN</td>\n",
       "      <td>20190429</td>\n",
       "    </tr>\n",
       "    <tr>\n",
       "      <th>238844</th>\n",
       "      <td>ScenarioMIP</td>\n",
       "      <td>CCCma</td>\n",
       "      <td>CanESM5</td>\n",
       "      <td>ssp245</td>\n",
       "      <td>r12i1p1f1</td>\n",
       "      <td>day</td>\n",
       "      <td>tasmax</td>\n",
       "      <td>gn</td>\n",
       "      <td>gs://cmip6/ScenarioMIP/CCCma/CanESM5/ssp245/r1...</td>\n",
       "      <td>NaN</td>\n",
       "      <td>20190429</td>\n",
       "    </tr>\n",
       "  </tbody>\n",
       "</table>\n",
       "</div>"
      ],
      "text/plain": [
       "        activity_id institution_id source_id experiment_id  member_id  \\\n",
       "238491  ScenarioMIP          CCCma   CanESM5        ssp245  r10i1p1f1   \n",
       "238615  ScenarioMIP          CCCma   CanESM5        ssp245  r10i1p2f1   \n",
       "238696  ScenarioMIP          CCCma   CanESM5        ssp245  r11i1p1f1   \n",
       "238770  ScenarioMIP          CCCma   CanESM5        ssp245  r11i1p2f1   \n",
       "238844  ScenarioMIP          CCCma   CanESM5        ssp245  r12i1p1f1   \n",
       "\n",
       "       table_id variable_id grid_label  \\\n",
       "238491      day      tasmax         gn   \n",
       "238615      day      tasmax         gn   \n",
       "238696      day      tasmax         gn   \n",
       "238770      day      tasmax         gn   \n",
       "238844      day      tasmax         gn   \n",
       "\n",
       "                                                   zstore  dcpp_init_year  \\\n",
       "238491  gs://cmip6/ScenarioMIP/CCCma/CanESM5/ssp245/r1...             NaN   \n",
       "238615  gs://cmip6/ScenarioMIP/CCCma/CanESM5/ssp245/r1...             NaN   \n",
       "238696  gs://cmip6/ScenarioMIP/CCCma/CanESM5/ssp245/r1...             NaN   \n",
       "238770  gs://cmip6/ScenarioMIP/CCCma/CanESM5/ssp245/r1...             NaN   \n",
       "238844  gs://cmip6/ScenarioMIP/CCCma/CanESM5/ssp245/r1...             NaN   \n",
       "\n",
       "         version  \n",
       "238491  20190306  \n",
       "238615  20190429  \n",
       "238696  20190429  \n",
       "238770  20190429  \n",
       "238844  20190429  "
      ]
     },
     "execution_count": 21,
     "metadata": {},
     "output_type": "execute_result"
    }
   ],
   "source": [
    "# data base queries\n",
    "# historical ensemble query\n",
    "df_hist = df.query(\"activity_id== \" + activity_1 + \" & source_id == \"+model+\" & table_id == \"+resolution+\" & variable_id == \"+variable+\" & experiment_id == \"+scenario_1)\n",
    "\n",
    "# future ensemble query\n",
    "df_ssp = df.query(\"activity_id== \" + activity_2 + \" & source_id == \"+model+\" & table_id == \"+resolution+\" & variable_id == \"+variable+\" & experiment_id == \"+scenario_2)\n",
    "df_ssp.head()\n"
   ]
  },
  {
   "cell_type": "code",
   "execution_count": 111,
   "metadata": {},
   "outputs": [
    {
     "data": {
      "text/plain": [
       "'CanESM5'"
      ]
     },
     "execution_count": 111,
     "metadata": {},
     "output_type": "execute_result"
    }
   ],
   "source": [
    "models[0]"
   ]
  },
  {
   "cell_type": "markdown",
   "metadata": {},
   "source": [
    "Next, we define the functions that are used during the actual analysis section of the code later on."
   ]
  },
  {
   "cell_type": "code",
   "execution_count": 22,
   "metadata": {},
   "outputs": [],
   "source": [
    "## DEFINE FUNCTIONS FOR LATER USE\n",
    "\n",
    "\n",
    "def standardize_dims(ds):\n",
    "    # function to standardize dimension names in cmip models\n",
    "    # dimension names get mapped to the keys in the rdic dictionary\n",
    "    # ds = input array\n",
    "    # code adapted from Julius Buseckes' CMIP6 pre-processing package\n",
    "    rdic = {\n",
    "        \"lon\": [\"x\", \"i\", \"nlon\", \"lon\", \"longitude\"],\n",
    "        \"lat\": [\"y\", \"j\", \"nlat\", \"lat\", \"latitude\"],\n",
    "        \"lev\": [\"lev\", \"depth\", \"olevel\", \"zlev\", \"olev\"],\n",
    "        \"time\": [\"time\",\"t\"],\n",
    "        }\n",
    "    for di in rdic.keys():\n",
    "        if di not in ds.coords:\n",
    "            for wrong in rdic[di]:\n",
    "                if wrong in ds.coords:\n",
    "                    ds=ds.rename({wrong: di})\n",
    "    return ds\n",
    "\n",
    "\n",
    "def prepare_timeseries(arr,xc,yc):\n",
    "    # function to extract a single timeseries from an input ensemble at a given location, \n",
    "    # and returns it as a numpy array\n",
    "    # arr = input array\n",
    "    # xc = longitude coordinate\n",
    "    # yc = latitude coordinate\n",
    "    \n",
    "    # select location\n",
    "    ts_h=arr.sel(lon=xc,lat=yc, method=\"nearest\")\n",
    "    \n",
    "    \n",
    "    # since all the timeseries data is concatenated together, need to make note of the total number of years simulated\n",
    "    n_yrs=(ts_h.time.dt.year.max()-ts_h.time.dt.year.min())*ts_h.count(dim='member')[0]  \n",
    "    \n",
    "    arr_np=xr.concat(ts_h,dim='time')\n",
    "    return arr_np.values,n_yrs.values\n",
    "\n",
    "def EVA(arr_np,n_yrs,RP,ts_res_days):\n",
    "    xr.set_options(display_style='html')\n",
    "    plt.rcParams['figure.figsize'] = 12, 6\n",
    "    # function to calculate probability of extreme events using a generalized pareto distribution fit\n",
    "    # we also calculate an uncertainty range using a bootstrapping method (this addressed sampling uncertainty)\n",
    "    # returns distribtion of extreme event values at specified return period\n",
    "    # arr_np  = input numpy array\n",
    "    # n_yrs = number of years simulated\n",
    "    # RP = return period to be tested\n",
    "    \n",
    "    # set variables\n",
    "    \n",
    "    n_events=100 # number of events to be extracted\n",
    "    timegap_days=10 # minimum number of days between independant events\n",
    "    threshold=np.percentile(arr_np,95); # set initial threshold for peak-over-threshold extreme events selection, using 99.9th percentile\n",
    "    bootstrap_n=50 # number of bootstrap samples \n",
    "    \n",
    "    # extract peaks\n",
    "    peaks = extract_peaks(ts_res_days,arr_np,n_events,timegap_days,threshold)\n",
    "    # update threshold so the lowest value in peaks is close to zero\n",
    "    threshold = peaks[0]-(peaks[1]-peaks[0])/10\n",
    "    peaks=peaks-threshold\n",
    "    print('Threshold: '+str(threshold))\n",
    "    # calculate empirical cumulative distribution function\n",
    "    q_peaks,p_peaks=ecdf(peaks+threshold)\n",
    "    xx = np.linspace(0,np.max(q_peaks-threshold)*3,100)\n",
    "    #initialize arrays to hold bootstrapped GPD distributions (gp_fits) and returns values (rvs)\n",
    "    gp_fits=np.zeros((bootstrap_n,len(xx)))\n",
    "    rvs=np.zeros((bootstrap_n,1))\n",
    "    # run bootstrapping fit\n",
    "    for k in range(bootstrap_n):\n",
    "        # select random sample, with replacement\n",
    "        b_sample=np.random.choice(peaks,len(peaks),replace=True)\n",
    "        # calculate CDF\n",
    "        q_peaks,p_peaks=ecdf(b_sample+threshold)\n",
    "        # temporarily disable specific warnings during fitting for ease of use\n",
    "        # note : other extreme value functions are simpler/cleaner to fit but are not a general as the GPD\n",
    "        with np.errstate(divide='ignore', invalid='ignore'): \n",
    "            # fit GPD function\n",
    "            shape, loc, scale = stats.genpareto.fit(b_sample)\n",
    "        # produce continuous probability density function\n",
    "        yy = stats.genpareto.pdf(xx, shape, loc, scale)\n",
    "        # convert to cumumative probability from PDF\n",
    "        p_gp=np.cumsum(yy)/np.sum(yy)\n",
    "        # plot fits\n",
    "        #plt.plot(1-np.exp(-(len(peaks)/n_yrs)*(1-p_gp)),xx+threshold, 'k',alpha=0.1)\n",
    "        gp_fits[k,:]=1-np.exp(-(len(peaks)/n_yrs)*(1-p_gp))\n",
    "        # calculate return value at specified return period RP\n",
    "        idx = (np.abs(1-np.exp(-(len(peaks)/n_yrs)*(1-p_gp)) - 1/RP)).argmin()\n",
    "        rvs[k]=xx[idx]+threshold \n",
    "    return rvs\n",
    "    \n",
    "def ecdf(sample):\n",
    "    # function to calculate empirical cumulative distribution function\n",
    "    # make numpy array\n",
    "    # this code is adapted from stackoverflow\n",
    "    sample = np.atleast_1d(sample)\n",
    "\n",
    "    # produce quantiles and probabilities\n",
    "    quantiles, counts = np.unique(sample, return_counts=True)\n",
    "\n",
    "    # sum togther for cumulative distribution function\n",
    "    cumprob = np.cumsum(counts).astype(np.double) / sample.size\n",
    "\n",
    "    return quantiles, cumprob        \n",
    "        \n",
    "    \n",
    "def extract_peaks(ts_res_days,timeseries,n_events,timegap_days,threshold):\n",
    "    # function extract the top n_events independent events from a timeseries\n",
    "    # ts_res_days = time resolution of input data, in number of days\n",
    "    # timeseries = input timeseries\n",
    "    # n_events = number of events to extract\n",
    "    # timegap_days = the minimum number of days between independent events, default used is 5 days\n",
    "    peaks, _ = find_peaks(timeseries,distance=timegap_days/ts_res_days,height=threshold)\n",
    "    arr_s=np.sort(timeseries[peaks])[-n_events:]\n",
    "    return arr_s\n",
    "\n",
    "def plot_significant_changes(arr_past,arr_future,sig_level, n_ens_members):\n",
    "    xr.set_options(display_style='html')\n",
    "    plt.rcParams['figure.figsize'] = 18, 9\n",
    "    # function to take two ensembles, plot the mean difference and show where the means are statistically different\n",
    "    # arr_past = past ensemble\n",
    "    # arr_future = future ensemble\n",
    "    # sig_level = significance level, to be multiplied by the sample standard deviation\n",
    "    # n_ens_members = number of ensemble members in input\n",
    "    ts1=arr_past.mean(dim=\"time\") # take time mean of each ensemble member\n",
    "    ts2=arr_future.mean(dim=\"time\") # take time mean of each ensemble member\n",
    "    ts=ts2-ts1\n",
    "    ts_m=ts.mean(dim='member') # ensemble mean difference \n",
    "    ts_std=sig_level*ts.std(dim='member')/(n_ens_members**(1/2)) # standard deviation \n",
    "    sig_map= ts_m.where(abs(ts_m)<ts_std) # calculate map for significance test\n",
    "    # set up map, centred around the location of interest\n",
    "    ax = plt.axes(projection=ccrs.Orthographic(xc, yc))\n",
    "    ax.coastlines() # add coastlines\n",
    "    # plot data\n",
    "    ts_m.plot(subplot_kws=dict(projection=ccrs.Orthographic(xc-90, xc+90)),transform=ccrs.PlateCarree())\n",
    "    \n",
    "    # an error is generated when the entire map is significant, which is caught here\n",
    "    # hashing is shown where the difference in the means is not significant\n",
    "    try:\n",
    "        p = sig_map.plot.contourf(subplot_kws=dict(projection=ccrs.Orthographic(xc-90, xc+90)),transform=ccrs.PlateCarree(),hatches=['///'],alpha=0)\n",
    "        p.colorbar.remove()\n",
    "    except:\n",
    "        print('Significant everywhere')\n",
    "        \n",
    "    # plot location\n",
    "    ax.plot(xc,yc,'co')\n",
    "    ax.set_global()\n",
    "    fig = plt.gcf()\n",
    "    plt.title(\"Change in mean \" + arr_past.long_name )\n",
    "    fig.savefig('anomaly_map.png', dpi=200)\n",
    "    return ts_m, ts_std\n",
    "\n",
    "    \n",
    "def is_significant(test1,test2,sig_level):\n",
    "    # function to test significance of two input arrays\n",
    "    if abs(np.mean(test1)  - np.mean(test2)) > sig_level*(np.std(test1)**2 + np.std(test2)**2   )**(1/2):\n",
    "        return True\n",
    "    else: \n",
    "        return False\n",
    "    \n",
    "    \n",
    "class ENS_month:\n",
    "    # This is a helper class that makes it easier to perform several varieties of monthly ensemble calculations\n",
    "    def __init__(self,ens_hist,ens_fut,n_ens_members,sig_level):\n",
    "        self.historical=ens_hist\n",
    "        self.future=ens_fut\n",
    "        self.n_ens = n_ens_members\n",
    "        self.sig_l = sig_level\n",
    "        \n",
    "    def plot_mean_change(self,xc,yc):\n",
    "        # this method calculates and plots distributions of monthly means\n",
    "        # calculate monthly means first\n",
    "        mn_hist=self.historical.sel(lon=xc,lat=yc, method=\"nearest\").groupby('time.month').mean()\n",
    "        mn_fut=self.future.sel(lon=xc,lat=yc, method=\"nearest\").groupby('time.month').mean()\n",
    "        # plot histograms\n",
    "        make_histograms(mn_hist,mn_fut,self.n_ens,self.sig_l,'mean')\n",
    "   \n",
    "        \n",
    "    def plot_max_change(self,xc,yc):\n",
    "        # this method calculates and plots distributions of monthly maxima\n",
    "        # calculate monthly maxima first\n",
    "        mn_hist=self.historical.sel(lon=xc,lat=yc, method=\"nearest\").groupby('time.month').max()\n",
    "        mn_fut=self.future.sel(lon=xc,lat=yc, method=\"nearest\").groupby('time.month').max()\n",
    "        # plots histograms\n",
    "        make_histograms(mn_hist,mn_fut,self.n_ens,self.sig_l,'max') \n",
    "\n",
    "        \n",
    "    def plot_min_change(self,xc,yc):\n",
    "        # this method calculates and plots distributions of monthly minima\n",
    "        # calculate monthly minima first\n",
    "        mn_hist=self.historical.sel(lon=xc,lat=yc, method=\"nearest\").groupby('time.month').min()\n",
    "        mn_fut=self.future.sel(lon=xc,lat=yc, method=\"nearest\").groupby('time.month').min()\n",
    "        # plot histograms\n",
    "        make_histograms(mn_hist,mn_fut,self.n_ens,self.sig_l,'min') \n",
    "\n",
    "    \n",
    "        \n",
    "def make_histograms(mn_hist,mn_fut,n_ens_members,sig_level,title_str):\n",
    "    # function to plot histograms: one distribution per input ensemble, for every month of the year\n",
    "    # set up figure properties\n",
    "    xr.set_options(display_style='html')\n",
    "    plt.rcParams['figure.figsize'] = 12, 6\n",
    "    f, axs = plt.subplots(3,4, sharex=True, sharey=True)\n",
    "    mn_list=['January','February','March','April','May','June','July',\n",
    "             'August','September','October','November','December']\n",
    "    axs = axs.ravel()\n",
    "    # cycle through all months and plot distributions\n",
    "    for m in range(12):\n",
    "        mn_hist.sel(month=m+1).plot.hist(ax=axs[m],alpha=0.7,bins=int(n_ens_members/2))\n",
    "        mn_fut.sel(month=m+1).plot.hist(ax=axs[m],alpha=0.7,bins=int(n_ens_members/2))\n",
    "        plt.subplots_adjust(hspace = 0.5)\n",
    "        # test if distributions are significantlt different and use result as title\n",
    "        if is_significant(mn_hist.sel(month=m+1).values,mn_fut.sel(month=m+1).values,sig_level):\n",
    "            axs[m].title.set_text('Significant')\n",
    "        else:\n",
    "            axs[m].title.set_text('Not Significant')\n",
    "        axs[m].set_xlabel(mn_list[m])\n",
    "    fig = plt.gcf()\n",
    "    fig.savefig('monthly_'+title_str+'.png', dpi=200)\n",
    "    \n",
    "### END DEFINE FUNCTIONS"
   ]
  },
  {
   "cell_type": "markdown",
   "metadata": {},
   "source": [
    "### Get data from the cloud"
   ]
  },
  {
   "cell_type": "code",
   "execution_count": 113,
   "metadata": {},
   "outputs": [
    {
     "name": "stdout",
     "output_type": "stream",
     "text": [
      "Setting up database queries\n",
      "Working on dates 2006-2010 for model CanESM5\n",
      "Threshold: 296.3176696777344\n",
      "Working on dates 2016-2020 for model CanESM5\n",
      "Threshold: 297.38681945800784\n",
      "Working on dates 2026-2030 for model CanESM5\n",
      "Threshold: 297.8427337646484\n",
      "Working on dates 2036-2040 for model CanESM5\n",
      "Threshold: 298.4449035644531\n",
      "Working on dates 2046-2050 for model CanESM5\n",
      "Threshold: 299.0044403076172\n",
      "Working on dates 2056-2060 for model CanESM5\n",
      "Threshold: 299.2588623046875\n",
      "Working on dates 2066-2070 for model CanESM5\n",
      "Threshold: 299.5009765625\n",
      "Working on dates 2006-2010 for model IPSL-CM6A-LR\n",
      "Threshold: 299.37696838378906\n",
      "Working on dates 2016-2020 for model IPSL-CM6A-LR\n"
     ]
    },
    {
     "ename": "KeyboardInterrupt",
     "evalue": "",
     "output_type": "error",
     "traceback": [
      "\u001b[0;31m---------------------------------------------------------------------------\u001b[0m",
      "\u001b[0;31mKeyboardInterrupt\u001b[0m                         Traceback (most recent call last)",
      "\u001b[0;32m<ipython-input-113-f8d89234f396>\u001b[0m in \u001b[0;36m<module>\u001b[0;34m\u001b[0m\n\u001b[1;32m     50\u001b[0m \u001b[0;34m\u001b[0m\u001b[0m\n\u001b[1;32m     51\u001b[0m         \u001b[0;31m# prepare timeseries\u001b[0m\u001b[0;34m\u001b[0m\u001b[0;34m\u001b[0m\u001b[0;34m\u001b[0m\u001b[0m\n\u001b[0;32m---> 52\u001b[0;31m         \u001b[0marr_n\u001b[0m\u001b[0;34m,\u001b[0m\u001b[0mn_yrs\u001b[0m \u001b[0;34m=\u001b[0m \u001b[0mprepare_timeseries\u001b[0m\u001b[0;34m(\u001b[0m\u001b[0mens_hist\u001b[0m\u001b[0;34m,\u001b[0m\u001b[0mxc\u001b[0m\u001b[0;34m,\u001b[0m\u001b[0myc\u001b[0m\u001b[0;34m)\u001b[0m\u001b[0;34m\u001b[0m\u001b[0;34m\u001b[0m\u001b[0m\n\u001b[0m\u001b[1;32m     53\u001b[0m \u001b[0;34m\u001b[0m\u001b[0m\n\u001b[1;32m     54\u001b[0m         \u001b[0mbase_mean\u001b[0m\u001b[0;34m=\u001b[0m\u001b[0mnp\u001b[0m\u001b[0;34m.\u001b[0m\u001b[0mappend\u001b[0m\u001b[0;34m(\u001b[0m\u001b[0mbase_mean\u001b[0m\u001b[0;34m,\u001b[0m\u001b[0mnp\u001b[0m\u001b[0;34m.\u001b[0m\u001b[0mmean\u001b[0m\u001b[0;34m(\u001b[0m\u001b[0marr_n\u001b[0m\u001b[0;34m)\u001b[0m\u001b[0;34m)\u001b[0m\u001b[0;34m\u001b[0m\u001b[0;34m\u001b[0m\u001b[0m\n",
      "\u001b[0;32m<ipython-input-22-628c6d7243a8>\u001b[0m in \u001b[0;36mprepare_timeseries\u001b[0;34m(arr, xc, yc)\u001b[0m\n\u001b[1;32m     36\u001b[0m \u001b[0;34m\u001b[0m\u001b[0m\n\u001b[1;32m     37\u001b[0m     \u001b[0marr_np\u001b[0m\u001b[0;34m=\u001b[0m\u001b[0mxr\u001b[0m\u001b[0;34m.\u001b[0m\u001b[0mconcat\u001b[0m\u001b[0;34m(\u001b[0m\u001b[0mts_h\u001b[0m\u001b[0;34m,\u001b[0m\u001b[0mdim\u001b[0m\u001b[0;34m=\u001b[0m\u001b[0;34m'time'\u001b[0m\u001b[0;34m)\u001b[0m\u001b[0;34m\u001b[0m\u001b[0;34m\u001b[0m\u001b[0m\n\u001b[0;32m---> 38\u001b[0;31m     \u001b[0;32mreturn\u001b[0m \u001b[0marr_np\u001b[0m\u001b[0;34m.\u001b[0m\u001b[0mvalues\u001b[0m\u001b[0;34m,\u001b[0m\u001b[0mn_yrs\u001b[0m\u001b[0;34m.\u001b[0m\u001b[0mvalues\u001b[0m\u001b[0;34m\u001b[0m\u001b[0;34m\u001b[0m\u001b[0m\n\u001b[0m\u001b[1;32m     39\u001b[0m \u001b[0;34m\u001b[0m\u001b[0m\n\u001b[1;32m     40\u001b[0m \u001b[0;32mdef\u001b[0m \u001b[0mEVA\u001b[0m\u001b[0;34m(\u001b[0m\u001b[0marr_np\u001b[0m\u001b[0;34m,\u001b[0m\u001b[0mn_yrs\u001b[0m\u001b[0;34m,\u001b[0m\u001b[0mRP\u001b[0m\u001b[0;34m,\u001b[0m\u001b[0mts_res_days\u001b[0m\u001b[0;34m)\u001b[0m\u001b[0;34m:\u001b[0m\u001b[0;34m\u001b[0m\u001b[0;34m\u001b[0m\u001b[0m\n",
      "\u001b[0;32m/opt/anaconda3/lib/python3.7/site-packages/xarray/core/dataarray.py\u001b[0m in \u001b[0;36mvalues\u001b[0;34m(self)\u001b[0m\n\u001b[1;32m    556\u001b[0m     \u001b[0;32mdef\u001b[0m \u001b[0mvalues\u001b[0m\u001b[0;34m(\u001b[0m\u001b[0mself\u001b[0m\u001b[0;34m)\u001b[0m \u001b[0;34m->\u001b[0m \u001b[0mnp\u001b[0m\u001b[0;34m.\u001b[0m\u001b[0mndarray\u001b[0m\u001b[0;34m:\u001b[0m\u001b[0;34m\u001b[0m\u001b[0;34m\u001b[0m\u001b[0m\n\u001b[1;32m    557\u001b[0m         \u001b[0;34m\"\"\"The array's data as a numpy.ndarray\"\"\"\u001b[0m\u001b[0;34m\u001b[0m\u001b[0;34m\u001b[0m\u001b[0m\n\u001b[0;32m--> 558\u001b[0;31m         \u001b[0;32mreturn\u001b[0m \u001b[0mself\u001b[0m\u001b[0;34m.\u001b[0m\u001b[0mvariable\u001b[0m\u001b[0;34m.\u001b[0m\u001b[0mvalues\u001b[0m\u001b[0;34m\u001b[0m\u001b[0;34m\u001b[0m\u001b[0m\n\u001b[0m\u001b[1;32m    559\u001b[0m \u001b[0;34m\u001b[0m\u001b[0m\n\u001b[1;32m    560\u001b[0m     \u001b[0;34m@\u001b[0m\u001b[0mvalues\u001b[0m\u001b[0;34m.\u001b[0m\u001b[0msetter\u001b[0m\u001b[0;34m\u001b[0m\u001b[0;34m\u001b[0m\u001b[0m\n",
      "\u001b[0;32m/opt/anaconda3/lib/python3.7/site-packages/xarray/core/variable.py\u001b[0m in \u001b[0;36mvalues\u001b[0;34m(self)\u001b[0m\n\u001b[1;32m    444\u001b[0m     \u001b[0;32mdef\u001b[0m \u001b[0mvalues\u001b[0m\u001b[0;34m(\u001b[0m\u001b[0mself\u001b[0m\u001b[0;34m)\u001b[0m\u001b[0;34m:\u001b[0m\u001b[0;34m\u001b[0m\u001b[0;34m\u001b[0m\u001b[0m\n\u001b[1;32m    445\u001b[0m         \u001b[0;34m\"\"\"The variable's data as a numpy.ndarray\"\"\"\u001b[0m\u001b[0;34m\u001b[0m\u001b[0;34m\u001b[0m\u001b[0m\n\u001b[0;32m--> 446\u001b[0;31m         \u001b[0;32mreturn\u001b[0m \u001b[0m_as_array_or_item\u001b[0m\u001b[0;34m(\u001b[0m\u001b[0mself\u001b[0m\u001b[0;34m.\u001b[0m\u001b[0m_data\u001b[0m\u001b[0;34m)\u001b[0m\u001b[0;34m\u001b[0m\u001b[0;34m\u001b[0m\u001b[0m\n\u001b[0m\u001b[1;32m    447\u001b[0m \u001b[0;34m\u001b[0m\u001b[0m\n\u001b[1;32m    448\u001b[0m     \u001b[0;34m@\u001b[0m\u001b[0mvalues\u001b[0m\u001b[0;34m.\u001b[0m\u001b[0msetter\u001b[0m\u001b[0;34m\u001b[0m\u001b[0;34m\u001b[0m\u001b[0m\n",
      "\u001b[0;32m/opt/anaconda3/lib/python3.7/site-packages/xarray/core/variable.py\u001b[0m in \u001b[0;36m_as_array_or_item\u001b[0;34m(data)\u001b[0m\n\u001b[1;32m    247\u001b[0m     \u001b[0mTODO\u001b[0m\u001b[0;34m:\u001b[0m \u001b[0mremove\u001b[0m \u001b[0mthis\u001b[0m \u001b[0;34m(\u001b[0m\u001b[0mreplace\u001b[0m \u001b[0;32mwith\u001b[0m \u001b[0mnp\u001b[0m\u001b[0;34m.\u001b[0m\u001b[0masarray\u001b[0m\u001b[0;34m)\u001b[0m \u001b[0monce\u001b[0m \u001b[0mthese\u001b[0m \u001b[0missues\u001b[0m \u001b[0mare\u001b[0m \u001b[0mfixed\u001b[0m\u001b[0;34m\u001b[0m\u001b[0;34m\u001b[0m\u001b[0m\n\u001b[1;32m    248\u001b[0m     \"\"\"\n\u001b[0;32m--> 249\u001b[0;31m     \u001b[0mdata\u001b[0m \u001b[0;34m=\u001b[0m \u001b[0mnp\u001b[0m\u001b[0;34m.\u001b[0m\u001b[0masarray\u001b[0m\u001b[0;34m(\u001b[0m\u001b[0mdata\u001b[0m\u001b[0;34m)\u001b[0m\u001b[0;34m\u001b[0m\u001b[0;34m\u001b[0m\u001b[0m\n\u001b[0m\u001b[1;32m    250\u001b[0m     \u001b[0;32mif\u001b[0m \u001b[0mdata\u001b[0m\u001b[0;34m.\u001b[0m\u001b[0mndim\u001b[0m \u001b[0;34m==\u001b[0m \u001b[0;36m0\u001b[0m\u001b[0;34m:\u001b[0m\u001b[0;34m\u001b[0m\u001b[0;34m\u001b[0m\u001b[0m\n\u001b[1;32m    251\u001b[0m         \u001b[0;32mif\u001b[0m \u001b[0mdata\u001b[0m\u001b[0;34m.\u001b[0m\u001b[0mdtype\u001b[0m\u001b[0;34m.\u001b[0m\u001b[0mkind\u001b[0m \u001b[0;34m==\u001b[0m \u001b[0;34m\"M\"\u001b[0m\u001b[0;34m:\u001b[0m\u001b[0;34m\u001b[0m\u001b[0;34m\u001b[0m\u001b[0m\n",
      "\u001b[0;32m/opt/anaconda3/lib/python3.7/site-packages/numpy/core/_asarray.py\u001b[0m in \u001b[0;36masarray\u001b[0;34m(a, dtype, order)\u001b[0m\n\u001b[1;32m     83\u001b[0m \u001b[0;34m\u001b[0m\u001b[0m\n\u001b[1;32m     84\u001b[0m     \"\"\"\n\u001b[0;32m---> 85\u001b[0;31m     \u001b[0;32mreturn\u001b[0m \u001b[0marray\u001b[0m\u001b[0;34m(\u001b[0m\u001b[0ma\u001b[0m\u001b[0;34m,\u001b[0m \u001b[0mdtype\u001b[0m\u001b[0;34m,\u001b[0m \u001b[0mcopy\u001b[0m\u001b[0;34m=\u001b[0m\u001b[0;32mFalse\u001b[0m\u001b[0;34m,\u001b[0m \u001b[0morder\u001b[0m\u001b[0;34m=\u001b[0m\u001b[0morder\u001b[0m\u001b[0;34m)\u001b[0m\u001b[0;34m\u001b[0m\u001b[0;34m\u001b[0m\u001b[0m\n\u001b[0m\u001b[1;32m     86\u001b[0m \u001b[0;34m\u001b[0m\u001b[0m\n\u001b[1;32m     87\u001b[0m \u001b[0;34m\u001b[0m\u001b[0m\n",
      "\u001b[0;32m/opt/anaconda3/lib/python3.7/site-packages/dask/array/core.py\u001b[0m in \u001b[0;36m__array__\u001b[0;34m(self, dtype, **kwargs)\u001b[0m\n\u001b[1;32m   1303\u001b[0m \u001b[0;34m\u001b[0m\u001b[0m\n\u001b[1;32m   1304\u001b[0m     \u001b[0;32mdef\u001b[0m \u001b[0m__array__\u001b[0m\u001b[0;34m(\u001b[0m\u001b[0mself\u001b[0m\u001b[0;34m,\u001b[0m \u001b[0mdtype\u001b[0m\u001b[0;34m=\u001b[0m\u001b[0;32mNone\u001b[0m\u001b[0;34m,\u001b[0m \u001b[0;34m**\u001b[0m\u001b[0mkwargs\u001b[0m\u001b[0;34m)\u001b[0m\u001b[0;34m:\u001b[0m\u001b[0;34m\u001b[0m\u001b[0;34m\u001b[0m\u001b[0m\n\u001b[0;32m-> 1305\u001b[0;31m         \u001b[0mx\u001b[0m \u001b[0;34m=\u001b[0m \u001b[0mself\u001b[0m\u001b[0;34m.\u001b[0m\u001b[0mcompute\u001b[0m\u001b[0;34m(\u001b[0m\u001b[0;34m)\u001b[0m\u001b[0;34m\u001b[0m\u001b[0;34m\u001b[0m\u001b[0m\n\u001b[0m\u001b[1;32m   1306\u001b[0m         \u001b[0;32mif\u001b[0m \u001b[0mdtype\u001b[0m \u001b[0;32mand\u001b[0m \u001b[0mx\u001b[0m\u001b[0;34m.\u001b[0m\u001b[0mdtype\u001b[0m \u001b[0;34m!=\u001b[0m \u001b[0mdtype\u001b[0m\u001b[0;34m:\u001b[0m\u001b[0;34m\u001b[0m\u001b[0;34m\u001b[0m\u001b[0m\n\u001b[1;32m   1307\u001b[0m             \u001b[0mx\u001b[0m \u001b[0;34m=\u001b[0m \u001b[0mx\u001b[0m\u001b[0;34m.\u001b[0m\u001b[0mastype\u001b[0m\u001b[0;34m(\u001b[0m\u001b[0mdtype\u001b[0m\u001b[0;34m)\u001b[0m\u001b[0;34m\u001b[0m\u001b[0;34m\u001b[0m\u001b[0m\n",
      "\u001b[0;32m/opt/anaconda3/lib/python3.7/site-packages/dask/base.py\u001b[0m in \u001b[0;36mcompute\u001b[0;34m(self, **kwargs)\u001b[0m\n\u001b[1;32m    164\u001b[0m         \u001b[0mdask\u001b[0m\u001b[0;34m.\u001b[0m\u001b[0mbase\u001b[0m\u001b[0;34m.\u001b[0m\u001b[0mcompute\u001b[0m\u001b[0;34m\u001b[0m\u001b[0;34m\u001b[0m\u001b[0m\n\u001b[1;32m    165\u001b[0m         \"\"\"\n\u001b[0;32m--> 166\u001b[0;31m         \u001b[0;34m(\u001b[0m\u001b[0mresult\u001b[0m\u001b[0;34m,\u001b[0m\u001b[0;34m)\u001b[0m \u001b[0;34m=\u001b[0m \u001b[0mcompute\u001b[0m\u001b[0;34m(\u001b[0m\u001b[0mself\u001b[0m\u001b[0;34m,\u001b[0m \u001b[0mtraverse\u001b[0m\u001b[0;34m=\u001b[0m\u001b[0;32mFalse\u001b[0m\u001b[0;34m,\u001b[0m \u001b[0;34m**\u001b[0m\u001b[0mkwargs\u001b[0m\u001b[0;34m)\u001b[0m\u001b[0;34m\u001b[0m\u001b[0;34m\u001b[0m\u001b[0m\n\u001b[0m\u001b[1;32m    167\u001b[0m         \u001b[0;32mreturn\u001b[0m \u001b[0mresult\u001b[0m\u001b[0;34m\u001b[0m\u001b[0;34m\u001b[0m\u001b[0m\n\u001b[1;32m    168\u001b[0m \u001b[0;34m\u001b[0m\u001b[0m\n",
      "\u001b[0;32m/opt/anaconda3/lib/python3.7/site-packages/dask/base.py\u001b[0m in \u001b[0;36mcompute\u001b[0;34m(*args, **kwargs)\u001b[0m\n\u001b[1;32m    435\u001b[0m     \u001b[0mkeys\u001b[0m \u001b[0;34m=\u001b[0m \u001b[0;34m[\u001b[0m\u001b[0mx\u001b[0m\u001b[0;34m.\u001b[0m\u001b[0m__dask_keys__\u001b[0m\u001b[0;34m(\u001b[0m\u001b[0;34m)\u001b[0m \u001b[0;32mfor\u001b[0m \u001b[0mx\u001b[0m \u001b[0;32min\u001b[0m \u001b[0mcollections\u001b[0m\u001b[0;34m]\u001b[0m\u001b[0;34m\u001b[0m\u001b[0;34m\u001b[0m\u001b[0m\n\u001b[1;32m    436\u001b[0m     \u001b[0mpostcomputes\u001b[0m \u001b[0;34m=\u001b[0m \u001b[0;34m[\u001b[0m\u001b[0mx\u001b[0m\u001b[0;34m.\u001b[0m\u001b[0m__dask_postcompute__\u001b[0m\u001b[0;34m(\u001b[0m\u001b[0;34m)\u001b[0m \u001b[0;32mfor\u001b[0m \u001b[0mx\u001b[0m \u001b[0;32min\u001b[0m \u001b[0mcollections\u001b[0m\u001b[0;34m]\u001b[0m\u001b[0;34m\u001b[0m\u001b[0;34m\u001b[0m\u001b[0m\n\u001b[0;32m--> 437\u001b[0;31m     \u001b[0mresults\u001b[0m \u001b[0;34m=\u001b[0m \u001b[0mschedule\u001b[0m\u001b[0;34m(\u001b[0m\u001b[0mdsk\u001b[0m\u001b[0;34m,\u001b[0m \u001b[0mkeys\u001b[0m\u001b[0;34m,\u001b[0m \u001b[0;34m**\u001b[0m\u001b[0mkwargs\u001b[0m\u001b[0;34m)\u001b[0m\u001b[0;34m\u001b[0m\u001b[0;34m\u001b[0m\u001b[0m\n\u001b[0m\u001b[1;32m    438\u001b[0m     \u001b[0;32mreturn\u001b[0m \u001b[0mrepack\u001b[0m\u001b[0;34m(\u001b[0m\u001b[0;34m[\u001b[0m\u001b[0mf\u001b[0m\u001b[0;34m(\u001b[0m\u001b[0mr\u001b[0m\u001b[0;34m,\u001b[0m \u001b[0;34m*\u001b[0m\u001b[0ma\u001b[0m\u001b[0;34m)\u001b[0m \u001b[0;32mfor\u001b[0m \u001b[0mr\u001b[0m\u001b[0;34m,\u001b[0m \u001b[0;34m(\u001b[0m\u001b[0mf\u001b[0m\u001b[0;34m,\u001b[0m \u001b[0ma\u001b[0m\u001b[0;34m)\u001b[0m \u001b[0;32min\u001b[0m \u001b[0mzip\u001b[0m\u001b[0;34m(\u001b[0m\u001b[0mresults\u001b[0m\u001b[0;34m,\u001b[0m \u001b[0mpostcomputes\u001b[0m\u001b[0;34m)\u001b[0m\u001b[0;34m]\u001b[0m\u001b[0;34m)\u001b[0m\u001b[0;34m\u001b[0m\u001b[0;34m\u001b[0m\u001b[0m\n\u001b[1;32m    439\u001b[0m \u001b[0;34m\u001b[0m\u001b[0m\n",
      "\u001b[0;32m/opt/anaconda3/lib/python3.7/site-packages/dask/threaded.py\u001b[0m in \u001b[0;36mget\u001b[0;34m(dsk, result, cache, num_workers, pool, **kwargs)\u001b[0m\n\u001b[1;32m     82\u001b[0m         \u001b[0mget_id\u001b[0m\u001b[0;34m=\u001b[0m\u001b[0m_thread_get_id\u001b[0m\u001b[0;34m,\u001b[0m\u001b[0;34m\u001b[0m\u001b[0;34m\u001b[0m\u001b[0m\n\u001b[1;32m     83\u001b[0m         \u001b[0mpack_exception\u001b[0m\u001b[0;34m=\u001b[0m\u001b[0mpack_exception\u001b[0m\u001b[0;34m,\u001b[0m\u001b[0;34m\u001b[0m\u001b[0;34m\u001b[0m\u001b[0m\n\u001b[0;32m---> 84\u001b[0;31m         \u001b[0;34m**\u001b[0m\u001b[0mkwargs\u001b[0m\u001b[0;34m\u001b[0m\u001b[0;34m\u001b[0m\u001b[0m\n\u001b[0m\u001b[1;32m     85\u001b[0m     )\n\u001b[1;32m     86\u001b[0m \u001b[0;34m\u001b[0m\u001b[0m\n",
      "\u001b[0;32m/opt/anaconda3/lib/python3.7/site-packages/dask/local.py\u001b[0m in \u001b[0;36mget_async\u001b[0;34m(apply_async, num_workers, dsk, result, cache, get_id, rerun_exceptions_locally, pack_exception, raise_exception, callbacks, dumps, loads, **kwargs)\u001b[0m\n\u001b[1;32m    473\u001b[0m             \u001b[0;31m# Main loop, wait on tasks to finish, insert new ones\u001b[0m\u001b[0;34m\u001b[0m\u001b[0;34m\u001b[0m\u001b[0;34m\u001b[0m\u001b[0m\n\u001b[1;32m    474\u001b[0m             \u001b[0;32mwhile\u001b[0m \u001b[0mstate\u001b[0m\u001b[0;34m[\u001b[0m\u001b[0;34m\"waiting\"\u001b[0m\u001b[0;34m]\u001b[0m \u001b[0;32mor\u001b[0m \u001b[0mstate\u001b[0m\u001b[0;34m[\u001b[0m\u001b[0;34m\"ready\"\u001b[0m\u001b[0;34m]\u001b[0m \u001b[0;32mor\u001b[0m \u001b[0mstate\u001b[0m\u001b[0;34m[\u001b[0m\u001b[0;34m\"running\"\u001b[0m\u001b[0;34m]\u001b[0m\u001b[0;34m:\u001b[0m\u001b[0;34m\u001b[0m\u001b[0;34m\u001b[0m\u001b[0m\n\u001b[0;32m--> 475\u001b[0;31m                 \u001b[0mkey\u001b[0m\u001b[0;34m,\u001b[0m \u001b[0mres_info\u001b[0m\u001b[0;34m,\u001b[0m \u001b[0mfailed\u001b[0m \u001b[0;34m=\u001b[0m \u001b[0mqueue_get\u001b[0m\u001b[0;34m(\u001b[0m\u001b[0mqueue\u001b[0m\u001b[0;34m)\u001b[0m\u001b[0;34m\u001b[0m\u001b[0;34m\u001b[0m\u001b[0m\n\u001b[0m\u001b[1;32m    476\u001b[0m                 \u001b[0;32mif\u001b[0m \u001b[0mfailed\u001b[0m\u001b[0;34m:\u001b[0m\u001b[0;34m\u001b[0m\u001b[0;34m\u001b[0m\u001b[0m\n\u001b[1;32m    477\u001b[0m                     \u001b[0mexc\u001b[0m\u001b[0;34m,\u001b[0m \u001b[0mtb\u001b[0m \u001b[0;34m=\u001b[0m \u001b[0mloads\u001b[0m\u001b[0;34m(\u001b[0m\u001b[0mres_info\u001b[0m\u001b[0;34m)\u001b[0m\u001b[0;34m\u001b[0m\u001b[0;34m\u001b[0m\u001b[0m\n",
      "\u001b[0;32m/opt/anaconda3/lib/python3.7/site-packages/dask/local.py\u001b[0m in \u001b[0;36mqueue_get\u001b[0;34m(q)\u001b[0m\n\u001b[1;32m    131\u001b[0m \u001b[0;34m\u001b[0m\u001b[0m\n\u001b[1;32m    132\u001b[0m     \u001b[0;32mdef\u001b[0m \u001b[0mqueue_get\u001b[0m\u001b[0;34m(\u001b[0m\u001b[0mq\u001b[0m\u001b[0;34m)\u001b[0m\u001b[0;34m:\u001b[0m\u001b[0;34m\u001b[0m\u001b[0;34m\u001b[0m\u001b[0m\n\u001b[0;32m--> 133\u001b[0;31m         \u001b[0;32mreturn\u001b[0m \u001b[0mq\u001b[0m\u001b[0;34m.\u001b[0m\u001b[0mget\u001b[0m\u001b[0;34m(\u001b[0m\u001b[0;34m)\u001b[0m\u001b[0;34m\u001b[0m\u001b[0;34m\u001b[0m\u001b[0m\n\u001b[0m\u001b[1;32m    134\u001b[0m \u001b[0;34m\u001b[0m\u001b[0m\n\u001b[1;32m    135\u001b[0m \u001b[0;34m\u001b[0m\u001b[0m\n",
      "\u001b[0;32m/opt/anaconda3/lib/python3.7/queue.py\u001b[0m in \u001b[0;36mget\u001b[0;34m(self, block, timeout)\u001b[0m\n\u001b[1;32m    168\u001b[0m             \u001b[0;32melif\u001b[0m \u001b[0mtimeout\u001b[0m \u001b[0;32mis\u001b[0m \u001b[0;32mNone\u001b[0m\u001b[0;34m:\u001b[0m\u001b[0;34m\u001b[0m\u001b[0;34m\u001b[0m\u001b[0m\n\u001b[1;32m    169\u001b[0m                 \u001b[0;32mwhile\u001b[0m \u001b[0;32mnot\u001b[0m \u001b[0mself\u001b[0m\u001b[0;34m.\u001b[0m\u001b[0m_qsize\u001b[0m\u001b[0;34m(\u001b[0m\u001b[0;34m)\u001b[0m\u001b[0;34m:\u001b[0m\u001b[0;34m\u001b[0m\u001b[0;34m\u001b[0m\u001b[0m\n\u001b[0;32m--> 170\u001b[0;31m                     \u001b[0mself\u001b[0m\u001b[0;34m.\u001b[0m\u001b[0mnot_empty\u001b[0m\u001b[0;34m.\u001b[0m\u001b[0mwait\u001b[0m\u001b[0;34m(\u001b[0m\u001b[0;34m)\u001b[0m\u001b[0;34m\u001b[0m\u001b[0;34m\u001b[0m\u001b[0m\n\u001b[0m\u001b[1;32m    171\u001b[0m             \u001b[0;32melif\u001b[0m \u001b[0mtimeout\u001b[0m \u001b[0;34m<\u001b[0m \u001b[0;36m0\u001b[0m\u001b[0;34m:\u001b[0m\u001b[0;34m\u001b[0m\u001b[0;34m\u001b[0m\u001b[0m\n\u001b[1;32m    172\u001b[0m                 \u001b[0;32mraise\u001b[0m \u001b[0mValueError\u001b[0m\u001b[0;34m(\u001b[0m\u001b[0;34m\"'timeout' must be a non-negative number\"\u001b[0m\u001b[0;34m)\u001b[0m\u001b[0;34m\u001b[0m\u001b[0;34m\u001b[0m\u001b[0m\n",
      "\u001b[0;32m/opt/anaconda3/lib/python3.7/threading.py\u001b[0m in \u001b[0;36mwait\u001b[0;34m(self, timeout)\u001b[0m\n\u001b[1;32m    294\u001b[0m         \u001b[0;32mtry\u001b[0m\u001b[0;34m:\u001b[0m    \u001b[0;31m# restore state no matter what (e.g., KeyboardInterrupt)\u001b[0m\u001b[0;34m\u001b[0m\u001b[0;34m\u001b[0m\u001b[0m\n\u001b[1;32m    295\u001b[0m             \u001b[0;32mif\u001b[0m \u001b[0mtimeout\u001b[0m \u001b[0;32mis\u001b[0m \u001b[0;32mNone\u001b[0m\u001b[0;34m:\u001b[0m\u001b[0;34m\u001b[0m\u001b[0;34m\u001b[0m\u001b[0m\n\u001b[0;32m--> 296\u001b[0;31m                 \u001b[0mwaiter\u001b[0m\u001b[0;34m.\u001b[0m\u001b[0macquire\u001b[0m\u001b[0;34m(\u001b[0m\u001b[0;34m)\u001b[0m\u001b[0;34m\u001b[0m\u001b[0;34m\u001b[0m\u001b[0m\n\u001b[0m\u001b[1;32m    297\u001b[0m                 \u001b[0mgotit\u001b[0m \u001b[0;34m=\u001b[0m \u001b[0;32mTrue\u001b[0m\u001b[0;34m\u001b[0m\u001b[0;34m\u001b[0m\u001b[0m\n\u001b[1;32m    298\u001b[0m             \u001b[0;32melse\u001b[0m\u001b[0;34m:\u001b[0m\u001b[0;34m\u001b[0m\u001b[0;34m\u001b[0m\u001b[0m\n",
      "\u001b[0;31mKeyboardInterrupt\u001b[0m: "
     ]
    },
    {
     "data": {
      "image/png": "[encoded data removed]",
      "text/plain": [
       "<Figure size 864x432 with 1 Axes>"
      ]
     },
     "metadata": {
      "needs_background": "light"
     },
     "output_type": "display_data"
    }
   ],
   "source": [
    "# initialize gcfs token\n",
    "print('Setting up database queries')\n",
    "gcs = gcsfs.GCSFileSystem(token='anon')\n",
    "\n",
    "# check that there are enough ensemble members for the specified analysis, otherwise update the specified number\n",
    "if df_ssp.shape[0] < n_ens_members:\n",
    "    n_ens_members=df_ssp.shape[0]\n",
    "    print('Ensemble members updated to '+str(n_ens_members))\n",
    "\n",
    "base_std=[] \n",
    "base_mean=[]   \n",
    "ens_mean=[]\n",
    "ens_std=[]\n",
    "for mod in models[:3]:\n",
    "    for dates in np.linspace(2006,2066,7):    \n",
    "        print('Working on dates '+str(int(dates))+'-'+str(int(dates)+4)+' for model '+str(mod))\n",
    "        # prepare dates\n",
    "        if dates < 2014.0:\n",
    "            activity=\"'CMIP'\"\n",
    "            scenario = \"'historical'\"\n",
    "            date_start =str(int(dates))+\"-01-01\"\n",
    "            date_end = str(int(dates)+9)+\"-12-31\"\n",
    "\n",
    "        \n",
    "        if dates > 2014.0:\n",
    "            activity=\"'ScenarioMIP'\"\n",
    "            scenario = \"'ssp245'\"\n",
    "            date_start =str(int(dates))+\"-01-01\"\n",
    "            date_end = str(int(dates)+9)+\"-12-31\"\n",
    "\n",
    "        df_hist = df.query(\"activity_id== \" + activity + \" & source_id == \"+\"'\"+mod+\"'\"+\" & table_id == \"+resolution+\" & variable_id == \"+variable+\" & experiment_id == \"+scenario)\n",
    "\n",
    "        # these two loops pull the past and future ensemble data from the cloud\n",
    "        for i in range(n_ens_members):\n",
    "            zstore = df_hist.zstore.values[i]\n",
    "\n",
    "            # create a mutable-mapping-style interface to the store \n",
    "            mapper = gcs.get_mapper(zstore)\n",
    "\n",
    "            # open data and select time slice \n",
    "            ds = xr.open_zarr(mapper, consolidated=True)\n",
    "            ens_m=ds[variable[1:-1]].sel(time=slice(date_start,date_end))\n",
    "            if i == 0:\n",
    "                ens_hist=ens_m\n",
    "            else:\n",
    "                ens_hist=xr.concat([ens_hist,ens_m], 'member')\n",
    "\n",
    "        # rename dimensions to standard names\n",
    "        ens_hist=standardize_dims(ens_hist)\n",
    "        \n",
    "        # prepare timeseries\n",
    "        arr_n,n_yrs = prepare_timeseries(ens_hist,xc,yc)\n",
    "    \n",
    "        base_mean=np.append(base_mean,np.mean(arr_n))\n",
    "        base_std=np.append(base_mean,np.std(arr_n))\n",
    "    \n",
    "        # run EVA analysis\n",
    "        rvs=EVA(eva_fac*arr_n,n_yrs,RP,ts_res_days)\n",
    "    \n",
    "        ens_mean=np.append(ens_mean,np.mean(rvs))\n",
    "        ens_std=np.append(ens_std,np.std(rvs))\n",
    "    \n"
   ]
  },
  {
   "cell_type": "code",
   "execution_count": 128,
   "metadata": {},
   "outputs": [
    {
     "data": {
      "text/plain": [
       "Text(0, 0.5, 'Degrees C')"
      ]
     },
     "execution_count": 128,
     "metadata": {},
     "output_type": "execute_result"
    },
    {
     "data": {
      "image/png": "[encoded data removed]",
      "text/plain": [
       "<Figure size 864x432 with 1 Axes>"
      ]
     },
     "metadata": {
      "needs_background": "light"
     },
     "output_type": "display_data"
    }
   ],
   "source": [
    "plt.fill_between(np.linspace(2006,2066,7)+4,ens_mean[:7]-2*ens_std[:7]-273.15,ens_mean[:7]+2*ens_std[:7]-273.15, color='aquamarine', alpha='0.4')\n",
    "plt.plot(np.linspace(2006,2066,7)+4,ens_mean[:7]-273.15,'bo-')\n",
    "plt.title('100-year daily maximum temperature')\n",
    "plt.xlabel('Year')\n",
    "plt.ylabel('Degrees C')"
   ]
  },
  {
   "cell_type": "code",
   "execution_count": 130,
   "metadata": {},
   "outputs": [
    {
     "data": {
      "text/plain": [
       "Text(0, 0.5, 'Degrees C realtive to mean')"
      ]
     },
     "execution_count": 130,
     "metadata": {},
     "output_type": "execute_result"
    },
    {
     "data": {
      "image/png": "[encoded data removed]",
      "text/plain": [
       "<Figure size 864x432 with 1 Axes>"
      ]
     },
     "metadata": {
      "needs_background": "light"
     },
     "output_type": "display_data"
    }
   ],
   "source": [
    "plt.fill_between(np.linspace(2006,2066,7)+4,ens_mean[:7]-2*ens_std[:7]-base_mean[:7],ens_mean[:7]+2*ens_std[:7]-base_mean[:7], color='aquamarine', alpha='0.4')\n",
    "plt.plot(np.linspace(2006,2066,7)+4,ens_mean[:7]-base_mean[:7],'bo-')\n",
    "plt.title('100-year daily maximum temperature (relative to mean)')\n",
    "plt.xlabel('Year')\n",
    "plt.ylabel('Degrees C realtive to mean')"
   ]
  },
  {
   "cell_type": "markdown",
   "metadata": {},
   "source": [
    "### Test for significance\n",
    "This next cell calculates whether there is a significant change in the specified return period extreme event"
   ]
  },
  {
   "cell_type": "code",
   "execution_count": 12,
   "metadata": {},
   "outputs": [
    {
     "name": "stdout",
     "output_type": "stream",
     "text": [
      "Significance test:\n",
      "Likely significant change in Daily Maximum Near-Surface Air Temperature at year 100 from 301.51 to 306.96 K\n"
     ]
    }
   ],
   "source": [
    "# test significance\n",
    "\n",
    "    \n",
    "print('Significance test:')\n",
    "if is_significant(rvs_fut,rvs_hist,sig_level):\n",
    "    print(\"Likely significant change in \" + ens_hist.long_name+ \" at year \" + str(RP) + \" from \" + str(round(np.mean(rvs_hist),2)/eva_fac) + \n",
    "    \" to \"+ str(round(np.mean(rvs_fut),2)/eva_fac)+ \" \" + ens_hist.units)\n",
    "else: \n",
    "    print(\"Likely no change in \" + ens_hist.long_name+ \" at year \" + str(RP) + \" from \" + str(round(np.mean(rvs_hist),2)/eva_fac)+ \" \"+ ens_hist.units)    \n",
    "     "
   ]
  },
  {
   "cell_type": "markdown",
   "metadata": {},
   "source": [
    "### Monthly differences\n",
    "\n",
    "Plot histograms of monthly means, maxima, and/or minima"
   ]
  },
  {
   "cell_type": "code",
   "execution_count": 105,
   "metadata": {},
   "outputs": [
    {
     "data": {
      "text/plain": [
       "array([2006., 2016., 2026., 2036., 2046., 2056., 2066.])"
      ]
     },
     "execution_count": 105,
     "metadata": {},
     "output_type": "execute_result"
    }
   ],
   "source": [
    "np.linspace(2006,2066,7)"
   ]
  },
  {
   "cell_type": "code",
   "execution_count": 127,
   "metadata": {},
   "outputs": [
    {
     "data": {
      "text/plain": [
       "array([0.52703785, 0.59325474, 0.57567714, 1.13267114, 1.11827853,\n",
       "       1.18077236, 1.3674549 , 0.7385211 ])"
      ]
     },
     "execution_count": 127,
     "metadata": {},
     "output_type": "execute_result"
    }
   ],
   "source": []
  },
  {
   "cell_type": "code",
   "execution_count": null,
   "metadata": {},
   "outputs": [],
   "source": []
  }
 ],
 "metadata": {
  "kernelspec": {
   "display_name": "Python 3",
   "language": "python",
   "name": "python3"
  },
  "language_info": {
   "codemirror_mode": {
    "name": "ipython",
    "version": 3
   },
   "file_extension": ".py",
   "mimetype": "text/x-python",
   "name": "python",
   "nbconvert_exporter": "python",
   "pygments_lexer": "ipython3",
   "version": "3.7.6"
  }
 },
 "nbformat": 4,
 "nbformat_minor": 4
}
